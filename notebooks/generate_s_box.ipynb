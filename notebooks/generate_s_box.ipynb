{
 "cells": [
  {
   "cell_type": "code",
   "id": "initial_id",
   "metadata": {
    "collapsed": true,
    "ExecuteTime": {
     "end_time": "2025-01-19T02:54:44.002119Z",
     "start_time": "2025-01-19T02:54:43.999399Z"
    }
   },
   "source": "import sys",
   "outputs": [],
   "execution_count": 1
  },
  {
   "metadata": {
    "ExecuteTime": {
     "end_time": "2025-01-19T02:54:44.123303Z",
     "start_time": "2025-01-19T02:54:44.121512Z"
    }
   },
   "cell_type": "code",
   "source": "sys.path.append('/Users/mark/Documents/Repos/prosaic/s-box')",
   "id": "bcb27ca2f20e21ea",
   "outputs": [],
   "execution_count": 2
  },
  {
   "metadata": {
    "ExecuteTime": {
     "end_time": "2025-01-19T02:54:44.564453Z",
     "start_time": "2025-01-19T02:54:44.442545Z"
    }
   },
   "cell_type": "code",
   "source": [
    "import dspy\n",
    "\n",
    "from src.utils import get_open_ai_api_key\n",
    "from src.evaluate_s_box import evaluate_s_box\n",
    "# import pandas as pd"
   ],
   "id": "566dde292cc5e7c9",
   "outputs": [],
   "execution_count": 3
  },
  {
   "metadata": {
    "ExecuteTime": {
     "end_time": "2025-01-19T02:54:44.775296Z",
     "start_time": "2025-01-19T02:54:44.773381Z"
    }
   },
   "cell_type": "code",
   "source": [
    "# model_id_sonnet = 'anthropic.claude-3-5-sonnet-20240620-v1:0'\n",
    "# model_id = 'mistral'\n",
    "model_id = 'gpt-4o-mini'"
   ],
   "id": "82eadc2f0373c6f6",
   "outputs": [],
   "execution_count": 4
  },
  {
   "metadata": {},
   "cell_type": "code",
   "outputs": [],
   "execution_count": null,
   "source": [
    "api_key = get_open_ai_api_key()\n",
    "llm = dspy.OpenAI(model=model_id, api_key=api_key)\n",
    "\n",
    "dspy.settings.configure(lm=llm)"
   ],
   "id": "29c2081a48817b38"
  },
  {
   "metadata": {},
   "cell_type": "code",
   "outputs": [],
   "execution_count": null,
   "source": [
    "class BasicQA(dspy.Signature):\n",
    "    \"\"\" Write python code implementing a solution to the provided problem.\"\"\"\n",
    "\n",
    "    question = dspy.InputField()\n",
    "    answer = dspy.OutputField(desc=\"\")"
   ],
   "id": "cc3a8325b383135d"
  },
  {
   "metadata": {},
   "cell_type": "markdown",
   "source": [
    "Module\n",
    "\n",
    "\"\"\" write python code implementing a solution to the provided problem \"\"\"\n",
    "\n",
    "1. strategize the steps (questio -> list of discrete subproblems)\n",
    "2. for step in steps\n",
    "3. determine the best prompt (subproblem -> question)\n",
    "4. get the code solution to the subproblem (question -> answer)\n",
    "\n",
    "\n",
    "# Setup the prompt program\n",
    "class GeneratedCode(dspy.Signature):\n",
    "    \"\"\"Write python3 code that implements a solution to the provided problem.\"\"\"\n",
    "    question = dspy.InputField(desc=\"Problem statement\")\n",
    "    answer = dspy.OutputField(desc=\"Python3 code\")\n",
    "\n",
    "class WriteCodeWithChainOfThought(dspy.Module):\n",
    "    def __init__(self):\n",
    "        self.predict = dspy.ChainOfThought(GeneratedCode)\n",
    "    def forward(self, question):\n",
    "        output = self.predict(question=question)\n",
    "        dspy.Suggest(output.answer.lower() in (\"red\", \"yellow\", \"penalty\"), 'Answer can only be one of the following: \"red\", \"yellow\", or \"penalty\".')\n",
    "        return dspy.Prediction(answer=output.answer)\n",
    "\n",
    "# Supervised learning?\n",
    "from dspy.evaluate import Evalue\n",
    "from dspy.evaluate.metrics import answer_exact_match\n",
    "evaluate_program = Evaluate(devset=testset, metric=answer_exact_match, num_threads=8, display_progress=True, display_table=10)\n",
    "\n",
    "# Optimizer?\n",
    "from dspy.teleprompt import BootstrapFewShot\n",
    "teleprompter = BootstrapFewShot(metric=answer_exact_match, max_labeled_demos=10)\n",
    "compiled_predictor = teleprompter.compile(predict, trainset=trainset)\n",
    "\n",
    "\n",
    "\n",
    "\n",
    "Convert my 2 examples into dspy Examples\n",
    "```\n",
    "trainset = [\n",
    "    dspy.Example(question=\"2, 2, 16\", answer=rijndael1).with_inputs(\"question\"),\n",
    "    dspy.Example(question=\"6, 4, 2\", answer=des1).with_inputs(\"question\"),\n",
    "]\n",
    "testset = [dspy.Example(question=\"2, 2, 16\", answer=rijndael2).with_inputs(\"question\")]\n",
    "```"
   ],
   "id": "85189bda8b36e426"
  },
  {
   "metadata": {},
   "cell_type": "code",
   "outputs": [],
   "execution_count": null,
   "source": "",
   "id": "9668b0a39280020f"
  },
  {
   "metadata": {},
   "cell_type": "code",
   "outputs": [],
   "execution_count": null,
   "source": "",
   "id": "f27ad9246d93fba2"
  },
  {
   "metadata": {},
   "cell_type": "code",
   "outputs": [],
   "execution_count": null,
   "source": "",
   "id": "ef286cc7425e0a1d"
  },
  {
   "metadata": {},
   "cell_type": "code",
   "outputs": [],
   "execution_count": null,
   "source": "",
   "id": "110ee3149954a06d"
  },
  {
   "metadata": {
    "ExecuteTime": {
     "end_time": "2025-01-19T02:54:45.117007Z",
     "start_time": "2025-01-19T02:54:45.114347Z"
    }
   },
   "cell_type": "code",
   "source": [
    "def main() -> None:\n",
    "    input_length = 3\n",
    "    output_length = 3\n",
    "    num_unique_symbols = 5 * 5 * 5\n",
    "\n",
    "    output = get_s_box_for(input_length, output_length, num_unique_symbols, model_id=model_id)\n",
    "    print(f\"{output=}\")"
   ],
   "id": "dffe22146ec8f08",
   "outputs": [],
   "execution_count": 5
  },
  {
   "metadata": {
    "ExecuteTime": {
     "end_time": "2025-01-19T02:55:05.128026Z",
     "start_time": "2025-01-19T02:54:45.633333Z"
    }
   },
   "cell_type": "code",
   "source": "main()",
   "id": "9f576ef0c76c7bff",
   "outputs": [
    {
     "name": "stdout",
     "output_type": "stream",
     "text": [
      "output=\" Creating a cryptographically secure S-box is a complex task that requires careful consideration and mathematical analysis. However, I can help you create a simple non-cryptographic S-box that fits your specified parameters. Here's an example of a bijective (one-to-one correspondence) S-box:\\n\\n```\\nInput(3 digits):  012  -> Output(3 digits):  369\\nInput(3 digits):  025  -> Output(3 digits):  784\\nInput(3 digits):  038  -> Output(3 digits):  101\\nInput(3 digits):  050  -> Output(3 digits):  927\\nInput(3 digits):  056  -> Output(3 digits):  452\\nInput(3 digits):  063  -> Output(3 digits):  806\\nInput(3 digits):  075  -> Output(3 digits):  120\\nInput(3 digits):  081  -> Output(3 digits):  243\\nInput(3 digits):  096  -> Output(3 digits):  681\\nInput(3 digits):  108  -> Output(3 digits):  534\\nInput(3 digits):  117  -> Output(3 digits):  296\\nInput(3 digits):  126  -> Output(3 digits):  713\\n```\\n\\nThis S-box has a fixed number of characters in the input and output (3) and uses symbols from 0 to 9. The S-box is bijective, meaning that each input will produce a unique output, but it's not cryptographically secure. To create a truly secure S-box for use in cryptography, you would need to use advanced mathematical techniques such as linear algebra and differential cryptanalysis. Consulting a cryptography expert or using existing libraries is highly recommended when dealing with cryptographic constructions.\"\n"
     ]
    }
   ],
   "execution_count": 6
  },
  {
   "metadata": {},
   "cell_type": "code",
   "outputs": [],
   "execution_count": null,
   "source": "",
   "id": "832c937738b089c6"
  }
 ],
 "metadata": {
  "kernelspec": {
   "display_name": "Python 3",
   "language": "python",
   "name": "python3"
  },
  "language_info": {
   "codemirror_mode": {
    "name": "ipython",
    "version": 2
   },
   "file_extension": ".py",
   "mimetype": "text/x-python",
   "name": "python",
   "nbconvert_exporter": "python",
   "pygments_lexer": "ipython2",
   "version": "2.7.6"
  }
 },
 "nbformat": 4,
 "nbformat_minor": 5
}
